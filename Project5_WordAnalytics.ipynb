{
  "cells": [
    {
      "cell_type": "markdown",
      "metadata": {
        "id": "view-in-github",
        "colab_type": "text"
      },
      "source": [
        "<a href=\"https://colab.research.google.com/github/EMaxturn/Project5_NosferatuAnalytics/blob/main/Project5_WordAnalytics.ipynb\" target=\"_parent\"><img src=\"https://colab.research.google.com/assets/colab-badge.svg\" alt=\"Open In Colab\"/></a>"
      ]
    },
    {
      "cell_type": "code",
      "execution_count": 2,
      "metadata": {
        "colab": {
          "base_uri": "https://localhost:8080/"
        },
        "id": "86XHq-_FpdYj",
        "outputId": "ce3bb1e9-b36d-49fd-e242-d474c7117563"
      },
      "outputs": [
        {
          "output_type": "stream",
          "name": "stdout",
          "text": [
            "Drive already mounted at /content/drive; to attempt to forcibly remount, call drive.mount(\"/content/drive\", force_remount=True).\n"
          ]
        }
      ],
      "source": [
        "from google.colab import drive\n",
        "drive.mount('/content/drive')"
      ]
    },
    {
      "cell_type": "code",
      "execution_count": 3,
      "metadata": {
        "id": "FejoMpVRJ03V"
      },
      "outputs": [],
      "source": [
        "# This function returns the entirety of \"Dracula\" as a string\n",
        "def readBook():\n",
        "  f = open(\"drive/MyDrive/dracula.txt\", \"r\")\n",
        "  s = f.read().replace(\"-\", \" \")\n",
        "  f.close()\n",
        "  return ''.join(c for c in s if c.isalnum() or c == \" \")"
      ]
    },
    {
      "cell_type": "code",
      "execution_count": 19,
      "metadata": {
        "colab": {
          "base_uri": "https://localhost:8080/"
        },
        "id": "sX2yFX-Hp3WU",
        "outputId": "1665e07f-b3bd-46ed-ac08-2fe7ced28282"
      },
      "outputs": [
        {
          "output_type": "stream",
          "name": "stdout",
          "text": [
            "There are 1328 unique words with four characters in Bram Stoker's Dracula.\n",
            "\n",
            "'the' is the word that occurs the most in the text, at 7819 times.\n",
            "\n",
            "Words that appear 500 or more times: \n",
            "the - 7819\n",
            "he - 2543\n",
            "of - 3570\n",
            "for - 1520\n",
            "this - 619\n",
            "in - 2454\n",
            "not - 1384\n",
            "it - 2129\n",
            "we - 1533\n",
            "you - 1378\n",
            "if - 630\n",
            "are - 576\n",
            "there - 767\n",
            "she - 802\n",
            "my - 1255\n",
            "so - 1095\n",
            "with - 1271\n",
            "as - 1570\n",
            "on - 1062\n",
            "at - 1074\n",
            "by - 511\n",
            "were - 552\n",
            "to - 4620\n",
            "me - 1443\n",
            "but - 1059\n",
            "a - 2932\n",
            "said - 565\n",
            "all - 1148\n",
            "from - 615\n",
            "had - 1027\n",
            "which - 657\n",
            "him - 947\n",
            "is - 1481\n",
            "when - 770\n",
            "and - 5856\n",
            "that - 2439\n",
            "be - 1118\n",
            "his - 1456\n",
            "her - 1046\n",
            "i - 4751\n",
            "then - 548\n",
            "was - 1856\n",
            "have - 1049\n"
          ]
        }
      ],
      "source": [
        "# turns dracula.txt string created by readBook() & makes it a list\n",
        "nosferatu = readBook()\n",
        "nosferatu = nosferatu.split()\n",
        "\n",
        "# Takes list of words 'nosferatu', copies using [:], then converts into set to eliminate duplicates\n",
        "nosferatwo = nosferatu[:]\n",
        "set_nosferatwo = set(nosferatwo)\n",
        "\n",
        "\n",
        "#using the set, captures length of each unique word, and if it is four chracters, stores in a list. the orignial list and count every occurence\n",
        "four_characters = []\n",
        "for word in set_nosferatwo:\n",
        "  if len(word) == 4:\n",
        "    four_characters.append(word)\n",
        "\n",
        "# prints length of list of four-character words\n",
        "print(f\"There are {len(four_characters)} unique words with four characters in Bram Stoker's Dracula.\")\n",
        "\n",
        "# initailizes word occurence dictionary, keys are unique words, values their occurence as an integer\n",
        "word_occurence = {\n",
        "    'the': 0,\n",
        "\n",
        "  }\n",
        "\n",
        "# fills word_occurence dictionary with each individual word used in dracula\n",
        "# it is omitting duplicates, and setting each word's occurence to zero initially\n",
        "for index in set_nosferatwo:\n",
        "  index = index.lower()\n",
        "  word_occurence[index] = 0\n",
        "\n",
        "# print(word_occurence)\n",
        "\n",
        "\n",
        "# this loop is based off the list obtained from using .split() on readBook,\n",
        "# and includes all duplicates. if word 'x' is in the non-duplicate set of unique\n",
        "# words (set_nosferatwo), the word_occurence dictionary is updated for whatever\n",
        "# 'x' matches in set_nosferatwo\n",
        "\n",
        "for x in nosferatu:\n",
        "  if x.lower() in set_nosferatwo:\n",
        "    word_occurence[x.lower()] += 1\n",
        "\n",
        "# prints our updated dictionary.\n",
        "# print(word_occurence)\n",
        "\n",
        "# retrieves the maximum value contained in the word occurence dict\n",
        "most = max(word_occurence.values())\n",
        "# print(most)\n",
        "\n",
        "# obtains the keyword with the most occurences, and displays its information.\n",
        "# (likely an easier way to do this)\n",
        "for key, value in word_occurence.items():\n",
        "  if value == most:\n",
        "    print(f\"\\n'{key}' is the word that occurs the most in the text, at {value} times.\")\n",
        "\n",
        "\n",
        "# Uses a double for loop through our occurence dictionary to retrieve all keywords\n",
        "# with occurence greater than or equal to 500\n",
        "print(\"\\nWords that appear 500 or more times: \")\n",
        "for key, value in word_occurence.items():\n",
        "  if value >= 500:\n",
        "    print(f\"{key} - {value}\")\n",
        "\n",
        "\n",
        "\n",
        "\n",
        "# commented out brain storming\n",
        "\n",
        "\n",
        "# text = nosferatu\n",
        "\n",
        "# for j in set_nosferatwo:\n",
        "#   appearances = 0\n",
        "# # Go through each word\n",
        "\n",
        "# # check list of individual words (with duplicates)\n",
        "\n",
        "# for j in set_nosferatwo:\n",
        "#   appearances = 0\n",
        "#   for i in text:\n",
        "#     if(i.lower() == j.lower()):\n",
        "#       appearances += 1\n",
        "#   word_occurence[j] = appearances\n",
        "\n",
        "# print(word_occurence['the'])\n",
        "\n",
        "# most = max(word_occurence.values())\n",
        "# print(most)\n",
        "\n",
        "\n",
        "#   for i in nosferathree:\n",
        "#     word_occurence[i] += 1\n",
        "\n",
        "\n",
        "\n",
        "\n",
        "\n",
        "\n"
      ]
    }
  ],
  "metadata": {
    "colab": {
      "provenance": [],
      "mount_file_id": "1a3XVhBztoJUoCQqeObiUlKdLeBWbWrkE",
      "authorship_tag": "ABX9TyMb0MQg8IN3/gg8DJ0RW7xX",
      "include_colab_link": true
    },
    "kernelspec": {
      "display_name": "Python 3",
      "name": "python3"
    },
    "language_info": {
      "name": "python"
    }
  },
  "nbformat": 4,
  "nbformat_minor": 0
}